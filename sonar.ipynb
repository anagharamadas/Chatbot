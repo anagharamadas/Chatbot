{
 "cells": [
  {
   "cell_type": "code",
   "execution_count": 41,
   "metadata": {},
   "outputs": [],
   "source": [
    "from openai import OpenAI\n",
    "import requests\n",
    "from pydantic import BaseModel\n",
    "import json\n",
    "from datetime import datetime\n",
    "import streamlit as st\n",
    "from langchain.llms import OpenAI\n",
    "from langchain.prompts import PromptTemplate\n",
    "\n"
   ]
  },
  {
   "cell_type": "code",
   "execution_count": 42,
   "metadata": {},
   "outputs": [
    {
     "name": "stderr",
     "output_type": "stream",
     "text": [
      "2025-03-04 17:33:16.816 Thread 'MainThread': missing ScriptRunContext! This warning can be ignored when running in bare mode.\n",
      "2025-03-04 17:33:16.818 Thread 'MainThread': missing ScriptRunContext! This warning can be ignored when running in bare mode.\n"
     ]
    },
    {
     "data": {
      "text/plain": [
       "DeltaGenerator()"
      ]
     },
     "execution_count": 42,
     "metadata": {},
     "output_type": "execute_result"
    }
   ],
   "source": []
  },
  {
   "cell_type": "code",
   "execution_count": 43,
   "metadata": {},
   "outputs": [
    {
     "name": "stderr",
     "output_type": "stream",
     "text": [
      "2025-03-04 17:33:17.251 Thread 'MainThread': missing ScriptRunContext! This warning can be ignored when running in bare mode.\n",
      "2025-03-04 17:33:17.252 Thread 'MainThread': missing ScriptRunContext! This warning can be ignored when running in bare mode.\n",
      "2025-03-04 17:33:17.253 Thread 'MainThread': missing ScriptRunContext! This warning can be ignored when running in bare mode.\n",
      "2025-03-04 17:33:17.253 Thread 'MainThread': missing ScriptRunContext! This warning can be ignored when running in bare mode.\n",
      "2025-03-04 17:33:17.254 Thread 'MainThread': missing ScriptRunContext! This warning can be ignored when running in bare mode.\n",
      "2025-03-04 17:33:17.254 Thread 'MainThread': missing ScriptRunContext! This warning can be ignored when running in bare mode.\n"
     ]
    }
   ],
   "source": []
  },
  {
   "cell_type": "code",
   "execution_count": 44,
   "metadata": {},
   "outputs": [
    {
     "name": "stderr",
     "output_type": "stream",
     "text": [
      "2025-03-04 17:33:18.262 Thread 'MainThread': missing ScriptRunContext! This warning can be ignored when running in bare mode.\n",
      "2025-03-04 17:33:18.263 Thread 'MainThread': missing ScriptRunContext! This warning can be ignored when running in bare mode.\n",
      "2025-03-04 17:33:18.264 Thread 'MainThread': missing ScriptRunContext! This warning can be ignored when running in bare mode.\n",
      "2025-03-04 17:33:18.265 Thread 'MainThread': missing ScriptRunContext! This warning can be ignored when running in bare mode.\n",
      "2025-03-04 17:33:18.266 Thread 'MainThread': missing ScriptRunContext! This warning can be ignored when running in bare mode.\n",
      "2025-03-04 17:33:18.266 Thread 'MainThread': missing ScriptRunContext! This warning can be ignored when running in bare mode.\n"
     ]
    }
   ],
   "source": []
  },
  {
   "cell_type": "code",
   "execution_count": 30,
   "metadata": {},
   "outputs": [
    {
     "name": "stdout",
     "output_type": "stream",
     "text": [
      "API key is set.\n"
     ]
    }
   ],
   "source": [
    "YOUR_API_KEY = \"ENTER YOUR API KEY HERE\"\n",
    "\n",
    "# Verify we have an API key\n",
    "if not YOUR_API_KEY or YOUR_API_KEY == \"your_perplexity_api_key\":\n",
    "    print(\"Warning: You need to set your actual API key to use this notebook.\")\n",
    "else:\n",
    "    print(\"API key is set.\")\n",
    "\n",
    "\n",
    "\n"
   ]
  },
  {
   "cell_type": "code",
   "execution_count": 31,
   "metadata": {},
   "outputs": [],
   "source": [
    "messages = [\n",
    "    {\n",
    "        \"role\": \"system\",\n",
    "        \"content\": (\n",
    "            \"You are an artificial intelligence assistant and you need to \"\n",
    "            \"engage in a helpful, detailed, polite conversation with a user.\"\n",
    "        ),\n",
    "    },\n",
    "    {   \n",
    "        \"role\": \"user\",\n",
    "        \"content\": (\n",
    "            \"How many stars are in the universe?\"\n",
    "        ),\n",
    "    },\n",
    "]"
   ]
  },
  {
   "cell_type": "code",
   "execution_count": 33,
   "metadata": {},
   "outputs": [],
   "source": [
    "def get_daily_fact(topic):\n",
    "\n",
    "    url = \"https://api.perplexity.ai/chat/completions\"\n",
    "    headers = {\n",
    "        \"Authorization\" : \"Bearer \" + YOUR_API_KEY,\n",
    "        \"Content-Type\": \"application/json\"\n",
    "        }\n",
    "    data = {\n",
    "        \"model\": \"sonar-reasoning\",\n",
    "        \"messages\": [\n",
    "            {\n",
    "                \"role\" : \"system\", \n",
    "                \"content\": \"You are a helpful assistant that provides interesting, accurate, and concise facts. Respond with only one fascinating fact, kept under 100 words.\"\n",
    "            },\n",
    "            {\n",
    "                \"role\": \"user\", \n",
    "                \"content\": f\"Tell me an interesting fact about {topic} that most people don't know.\"\n",
    "            },\n",
    "        ],\n",
    "        \"max_tokens\": 150,\n",
    "            \"temperature\": 0.7\n",
    "    }\n",
    "\n",
    "\n",
    "    try:\n",
    "        response = requests.post(url, headers=headers, json=data)\n",
    "        response.raise_for_status()  # Raise an exception for 4XX/5XX responses\n",
    "        result = response.json()\n",
    "        return result[\"choices\"][0][\"message\"][\"content\"]\n",
    "    except requests.exceptions.RequestException as e:\n",
    "        return f\"Error making API request: {str(e)}\"\n",
    "    except (KeyError, IndexError) as e:\n",
    "            return f\"Error parsing API response: {str(e)}\"\n",
    "    except Exception as e:\n",
    "        return f\"Unexpected error: {str(e)}\"\n",
    "     "
   ]
  },
  {
   "cell_type": "code",
   "execution_count": 35,
   "metadata": {},
   "outputs": [
    {
     "name": "stdout",
     "output_type": "stream",
     "text": [
      "<think>\n",
      "Okay, I need to find an interesting astronomy fact that most people don't know. Let me look through the search results provided.\n",
      "\n",
      "First, result  mentions 22 facts, but the content isn't visible here. Result [1] from Space.com has a list of 25 weird solar system facts. Scanning through, some stand out: Uranus spins sideways, Jupiter's moon Io has volcanic activity, Saturn's hexagonal storm, and the Great Red Spot shrinking. But maybe something more obscure?\n",
      "\n",
      "Result [2] from Tutor Doctor includes the Moon forming from Earth's debris, the supermassive black hole in the Milky Way, Earth's size compared to Jupiter, and time travel via relativity. The black hole is\n"
     ]
    }
   ],
   "source": [
    "\n",
    "# Try getting a fact about astronomy\n",
    "test_fact = get_daily_fact(\"astronomy\")\n",
    "print(test_fact)"
   ]
  },
  {
   "cell_type": "code",
   "execution_count": 36,
   "metadata": {},
   "outputs": [],
   "source": [
    "def save_fact_to_file(topic, fact):\n",
    "\n",
    "    timestamp = datetime.now().strftime(\"%Y-%m-%d %H:%M:%S\")\n",
    "    filename = f\"daily_fact_{timestamp}.txt\"\n",
    "\n",
    "    with open(filename, \"w\") as file:\n",
    "        file.write(f\"DAILY FACT - {timestamp}\\n\")\n",
    "        file.write(f\"Topic: {topic}\\n\")\n",
    "        file.write(f\"Fact: {fact}\\n\")\n",
    "    \n",
    "    print(f\"Fact saved to {filename}\")"
   ]
  },
  {
   "cell_type": "code",
   "execution_count": 37,
   "metadata": {},
   "outputs": [
    {
     "name": "stdout",
     "output_type": "stream",
     "text": [
      "Fact saved to daily_fact_2025-03-04 14:39:07.txt\n"
     ]
    },
    {
     "ename": "TypeError",
     "evalue": "expected str, bytes or os.PathLike object, not NoneType",
     "output_type": "error",
     "traceback": [
      "\u001b[0;31m---------------------------------------------------------------------------\u001b[0m",
      "\u001b[0;31mTypeError\u001b[0m                                 Traceback (most recent call last)",
      "Cell \u001b[0;32mIn[37], line 5\u001b[0m\n\u001b[1;32m      2\u001b[0m saved_file \u001b[38;5;241m=\u001b[39m save_fact_to_file(\u001b[38;5;124m\"\u001b[39m\u001b[38;5;124mastronomy\u001b[39m\u001b[38;5;124m\"\u001b[39m, test_fact)\n\u001b[1;32m      4\u001b[0m \u001b[38;5;66;03m# Let's read the file to verify it worked\u001b[39;00m\n\u001b[0;32m----> 5\u001b[0m \u001b[38;5;28;01mwith\u001b[39;00m \u001b[38;5;28;43mopen\u001b[39;49m\u001b[43m(\u001b[49m\u001b[43msaved_file\u001b[49m\u001b[43m,\u001b[49m\u001b[43m \u001b[49m\u001b[38;5;124;43m'\u001b[39;49m\u001b[38;5;124;43mr\u001b[39;49m\u001b[38;5;124;43m'\u001b[39;49m\u001b[43m)\u001b[49m \u001b[38;5;28;01mas\u001b[39;00m f:\n\u001b[1;32m      6\u001b[0m     \u001b[38;5;28mprint\u001b[39m(f\u001b[38;5;241m.\u001b[39mread())\n",
      "File \u001b[0;32m~/Documents/Langchain/venv/lib/python3.10/site-packages/IPython/core/interactiveshell.py:324\u001b[0m, in \u001b[0;36m_modified_open\u001b[0;34m(file, *args, **kwargs)\u001b[0m\n\u001b[1;32m    317\u001b[0m \u001b[38;5;28;01mif\u001b[39;00m file \u001b[38;5;129;01min\u001b[39;00m {\u001b[38;5;241m0\u001b[39m, \u001b[38;5;241m1\u001b[39m, \u001b[38;5;241m2\u001b[39m}:\n\u001b[1;32m    318\u001b[0m     \u001b[38;5;28;01mraise\u001b[39;00m \u001b[38;5;167;01mValueError\u001b[39;00m(\n\u001b[1;32m    319\u001b[0m         \u001b[38;5;124mf\u001b[39m\u001b[38;5;124m\"\u001b[39m\u001b[38;5;124mIPython won\u001b[39m\u001b[38;5;124m'\u001b[39m\u001b[38;5;124mt let you open fd=\u001b[39m\u001b[38;5;132;01m{\u001b[39;00mfile\u001b[38;5;132;01m}\u001b[39;00m\u001b[38;5;124m by default \u001b[39m\u001b[38;5;124m\"\u001b[39m\n\u001b[1;32m    320\u001b[0m         \u001b[38;5;124m\"\u001b[39m\u001b[38;5;124mas it is likely to crash IPython. If you know what you are doing, \u001b[39m\u001b[38;5;124m\"\u001b[39m\n\u001b[1;32m    321\u001b[0m         \u001b[38;5;124m\"\u001b[39m\u001b[38;5;124myou can use builtins\u001b[39m\u001b[38;5;124m'\u001b[39m\u001b[38;5;124m open.\u001b[39m\u001b[38;5;124m\"\u001b[39m\n\u001b[1;32m    322\u001b[0m     )\n\u001b[0;32m--> 324\u001b[0m \u001b[38;5;28;01mreturn\u001b[39;00m \u001b[43mio_open\u001b[49m\u001b[43m(\u001b[49m\u001b[43mfile\u001b[49m\u001b[43m,\u001b[49m\u001b[43m \u001b[49m\u001b[38;5;241;43m*\u001b[39;49m\u001b[43margs\u001b[49m\u001b[43m,\u001b[49m\u001b[43m \u001b[49m\u001b[38;5;241;43m*\u001b[39;49m\u001b[38;5;241;43m*\u001b[39;49m\u001b[43mkwargs\u001b[49m\u001b[43m)\u001b[49m\n",
      "\u001b[0;31mTypeError\u001b[0m: expected str, bytes or os.PathLike object, not NoneType"
     ]
    }
   ],
   "source": [
    "# Test saving our astronomy fact\n",
    "saved_file = save_fact_to_file(\"astronomy\", test_fact)\n",
    "\n",
    "# Let's read the file to verify it worked\n",
    "with open(saved_file, 'r') as f:\n",
    "    print(f.read())"
   ]
  },
  {
   "cell_type": "code",
   "execution_count": null,
   "metadata": {
    "vscode": {
     "languageId": "r"
    }
   },
   "outputs": [],
   "source": [
    "def main():\n",
    "    topics = [\n",
    "        \"astronomy\", \n",
    "        \"history\", \n",
    "        \"biology\", \n",
    "        \"technology\", \n",
    "        \"psychology\",\n",
    "        \"ocean life\",\n",
    "        \"ancient civilizations\",\n",
    "        \"quantum physics\",\n",
    "        \"art history\",\n",
    "        \"culinary science\",\n",
    "        \"linguistics\",\n",
    "        \"architecture\",\n",
    "        \"mythology\",\n",
    "        \"mathematics\",\n",
    "        \"geography\",\n",
    "        \"music theory\",\n",
    "        \"cryptocurrency\",\n",
    "        \"neuroscience\",\n",
    "        \"climate science\",\n",
    "        \"space exploration\",\n",
    "        \"anthropology\",\n",
    "        \"philosophy\",\n",
    "        \"artificial intelligence\",\n",
    "        \"genetics\",\n",
    "        \"economics\",\n",
    "        \"literature\",\n",
    "        \"chemistry\",\n",
    "        \"geology\",\n",
    "        \"zoology\",\n",
    "        \"sustainable energy\",\n",
    "        \"robotics\"\n",
    "    \n",
    "    ]\n",
    "\n",
    "    # Use the current day of month to select a topic (rotates through the list)\n",
    "    day = datetime.now().day\n",
    "    topic_index = (day % len(topics)) - 1\n",
    "    if topic_index < 0:  # Handle the case where day % len(topics) = 0\n",
    "        topic_index = 0\n",
    "    today_topic = topics[topic_index]\n",
    "    \n",
    "    print(f\"Getting today's fact about: {today_topic}\")\n",
    "    \n",
    "    # Get and display the fact\n",
    "    fact = get_daily_fact(today_topic)\n",
    "    print(f\"\\nToday's {today_topic} fact: {fact}\")\n",
    "    \n",
    "    # Save the fact to a file\n",
    "    save_fact_to_file(today_topic, fact)\n",
    "\n",
    "if __name__ == \"__main__\":\n",
    "    main()\n",
    "     \n",
    "    \n",
    "   "
   ]
  },
  {
   "cell_type": "code",
   "execution_count": null,
   "metadata": {},
   "outputs": [],
   "source": []
  },
  {
   "cell_type": "code",
   "execution_count": null,
   "metadata": {},
   "outputs": [],
   "source": []
  }
 ],
 "metadata": {
  "kernelspec": {
   "display_name": "venv",
   "language": "python",
   "name": "python3"
  },
  "language_info": {
   "codemirror_mode": {
    "name": "ipython",
    "version": 3
   },
   "file_extension": ".py",
   "mimetype": "text/x-python",
   "name": "python",
   "nbconvert_exporter": "python",
   "pygments_lexer": "ipython3",
   "version": "3.10.16"
  }
 },
 "nbformat": 4,
 "nbformat_minor": 2
}
